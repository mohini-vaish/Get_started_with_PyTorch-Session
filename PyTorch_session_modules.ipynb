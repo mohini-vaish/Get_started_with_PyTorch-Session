{
  "nbformat": 4,
  "nbformat_minor": 0,
  "metadata": {
    "kernelspec": {
      "display_name": "Python 3",
      "language": "python",
      "name": "python3"
    },
    "language_info": {
      "codemirror_mode": {
        "name": "ipython",
        "version": 3
      },
      "file_extension": ".py",
      "mimetype": "text/x-python",
      "name": "python",
      "nbconvert_exporter": "python",
      "pygments_lexer": "ipython3",
      "version": "3.6.9"
    },
    "colab": {
      "name": "PyTorch session-modules.ipynb",
      "provenance": [],
      "include_colab_link": true
    }
  },
  "cells": [
    {
      "cell_type": "markdown",
      "metadata": {
        "id": "view-in-github",
        "colab_type": "text"
      },
      "source": [
        "<a href=\"https://colab.research.google.com/github/mohini-vaish/Get_started_with_PyTorch-Session/blob/main/PyTorch_session_modules.ipynb\" target=\"_parent\"><img src=\"https://colab.research.google.com/assets/colab-badge.svg\" alt=\"Open In Colab\"/></a>"
      ]
    },
    {
      "cell_type": "markdown",
      "metadata": {
        "id": "U4RA_pXdneYq"
      },
      "source": [
        "# 3. Modules & Losses"
      ]
    },
    {
      "cell_type": "code",
      "metadata": {
        "id": "eGPLyEP6neYr"
      },
      "source": [
        "import torch\n",
        "import torch.nn as nn"
      ],
      "execution_count": null,
      "outputs": []
    },
    {
      "cell_type": "markdown",
      "metadata": {
        "id": "fIvNunvgneYw"
      },
      "source": [
        "## Creation and Usage"
      ]
    },
    {
      "cell_type": "markdown",
      "metadata": {
        "id": "XYgxu9kOneYx"
      },
      "source": [
        "Instantiate a Linear module from the `torch.nn` library"
      ]
    },
    {
      "cell_type": "code",
      "metadata": {
        "id": "qDk2puvVneYx"
      },
      "source": [
        "linear_regression_model = nn.Linear(in_features=5, out_features=2)  # Linear <=> Fully Connected"
      ],
      "execution_count": null,
      "outputs": []
    },
    {
      "cell_type": "code",
      "metadata": {
        "id": "Fnl3qqnRneY0"
      },
      "source": [
        "linear_regression_model.weight  # Parameters of a module are randomly initialised"
      ],
      "execution_count": null,
      "outputs": []
    },
    {
      "cell_type": "code",
      "metadata": {
        "id": "L7Qa6rO-neY2"
      },
      "source": [
        "type(linear_regression_model.weight)"
      ],
      "execution_count": null,
      "outputs": []
    },
    {
      "cell_type": "markdown",
      "metadata": {
        "id": "d1BqmD30neY7"
      },
      "source": [
        "A `Parameter` is a Tensor which is automatically added to the list of parameters when used within a model."
      ]
    },
    {
      "cell_type": "markdown",
      "metadata": {
        "id": "FyEwtQNvneY8"
      },
      "source": [
        "Check/Get all module parameters"
      ]
    },
    {
      "cell_type": "code",
      "metadata": {
        "id": "__-cuStwneY9"
      },
      "source": [
        "for name, tensor in linear_regression_model.named_parameters():\n",
        "    print(\"{:6s}  -  {}\".format(name, tensor.shape))"
      ],
      "execution_count": null,
      "outputs": []
    },
    {
      "cell_type": "code",
      "metadata": {
        "id": "gO2rpWynneZA"
      },
      "source": [
        "list(linear_regression_model.parameters())"
      ],
      "execution_count": null,
      "outputs": []
    },
    {
      "cell_type": "markdown",
      "metadata": {
        "id": "89UsmpnZneZD"
      },
      "source": [
        "Calling a module on an input Tensor"
      ]
    },
    {
      "cell_type": "code",
      "metadata": {
        "id": "v1L-5p5JneZE"
      },
      "source": [
        "# Pytorch Modules operate on batches. It allows to process multiple datapoints in parallel\n",
        "# All modules in torch.nn are written to produce outputs for a batch of multiple inputs at the same time.\n",
        "\n",
        "batch_size = 3\n",
        "feature_size = 5\n",
        "x = torch.randn(batch_size, feature_size) # batch of 3 samples with 5 features each\n",
        "\n",
        "print(x, \"\\n\\n\", x.shape)"
      ],
      "execution_count": null,
      "outputs": []
    },
    {
      "cell_type": "code",
      "metadata": {
        "id": "NjErCSRQneZI"
      },
      "source": [
        "predicted_y = linear_regression_model(x)  # Note, you do not call explicitely forward\n",
        "print(predicted_y, \"\\n\\n\", predicted_y.shape)"
      ],
      "execution_count": null,
      "outputs": []
    },
    {
      "cell_type": "code",
      "metadata": {
        "id": "fGGdwLuNneZK"
      },
      "source": [
        ""
      ],
      "execution_count": null,
      "outputs": []
    },
    {
      "cell_type": "markdown",
      "metadata": {
        "id": "Xix9wI9gneZM"
      },
      "source": [
        "---\n",
        "\n",
        "## Building Custom modules"
      ]
    },
    {
      "cell_type": "code",
      "metadata": {
        "id": "F6Dw7M3MneZM"
      },
      "source": [
        "import torch.nn.functional as F\n",
        "\n",
        "class MyNeuralNetwork(nn.Module):\n",
        "    def __init__(self, input_size, hidden_size, num_classes):\n",
        "        super(MyNeuralNetwork, self).__init__()\n",
        "        \n",
        "        self.linear_1 = nn.Linear(input_size, hidden_size)\n",
        "        self.linear_2 = nn.Linear(hidden_size, num_classes)\n",
        "    \n",
        "    def forward(self, x):\n",
        "        out = F.relu(self.linear_1(x))\n",
        "        out = self.linear_2(out)\n",
        "        return out"
      ],
      "execution_count": null,
      "outputs": []
    },
    {
      "cell_type": "code",
      "metadata": {
        "id": "u6nNqpD9neZP"
      },
      "source": [
        "model = MyNeuralNetwork(input_size=10, hidden_size=5,  num_classes=2)"
      ],
      "execution_count": null,
      "outputs": []
    },
    {
      "cell_type": "code",
      "metadata": {
        "id": "lqcTdAZeneZR"
      },
      "source": [
        "print(model)"
      ],
      "execution_count": null,
      "outputs": []
    },
    {
      "cell_type": "code",
      "metadata": {
        "id": "lAzKdzPwneZT"
      },
      "source": [
        "x = torch.rand(5, 10)   # the first dimension is reserved for the 'batch_size'\n",
        "out = model(x)   # this calls model.forward(x)\n",
        "\n",
        "print(out.shape)"
      ],
      "execution_count": null,
      "outputs": []
    },
    {
      "cell_type": "code",
      "metadata": {
        "id": "3VqoyHpRneZW"
      },
      "source": [
        ""
      ],
      "execution_count": null,
      "outputs": []
    },
    {
      "cell_type": "markdown",
      "metadata": {
        "id": "e5AGDcWxneZY"
      },
      "source": [
        "---\n",
        "\n",
        "## Composing modules with `torch.nn.Sequential`\n"
      ]
    },
    {
      "cell_type": "code",
      "metadata": {
        "id": "QuaLZRoYneZZ"
      },
      "source": [
        "neural_net = torch.nn.Sequential(\n",
        "    torch.nn.Linear(10, 5),\n",
        "    torch.nn.ReLU(),\n",
        "    torch.nn.Linear(5, 2),\n",
        ")\n",
        "\n",
        "print(neural_net)"
      ],
      "execution_count": null,
      "outputs": []
    },
    {
      "cell_type": "code",
      "metadata": {
        "id": "bXQTykcjneZc"
      },
      "source": [
        "# Run the model:\n",
        "neural_net(x)"
      ],
      "execution_count": null,
      "outputs": []
    },
    {
      "cell_type": "code",
      "metadata": {
        "id": "M83j2_B9neZe"
      },
      "source": [
        ""
      ],
      "execution_count": null,
      "outputs": []
    },
    {
      "cell_type": "markdown",
      "metadata": {
        "id": "7EI_rHq3neZh"
      },
      "source": [
        "---\n",
        "\n",
        "## Moving your model to GPU"
      ]
    },
    {
      "cell_type": "code",
      "metadata": {
        "id": "k-6y3FAvneZi"
      },
      "source": [
        "model.cuda()  # No need to assign it"
      ],
      "execution_count": null,
      "outputs": []
    },
    {
      "cell_type": "code",
      "metadata": {
        "id": "d4wDMU5yneZk"
      },
      "source": [
        "device = torch.device(\"cuda:0\")\n",
        "model.to(device)  # No need to assign it"
      ],
      "execution_count": null,
      "outputs": []
    },
    {
      "cell_type": "markdown",
      "metadata": {
        "id": "cBCzGz2GneZm"
      },
      "source": [
        "---\n",
        "\n",
        "## Storing and loading models"
      ]
    },
    {
      "cell_type": "markdown",
      "metadata": {
        "id": "ZPdPPf7BneZn"
      },
      "source": [
        "### The easy way"
      ]
    },
    {
      "cell_type": "code",
      "metadata": {
        "id": "32D9ESS-neZn"
      },
      "source": [
        "torch.save(model, \"my_model.pt\")"
      ],
      "execution_count": null,
      "outputs": []
    },
    {
      "cell_type": "code",
      "metadata": {
        "id": "eJAEVQoPneZp"
      },
      "source": [
        "my_model_loaded = torch.load(\"my_model.pt\")"
      ],
      "execution_count": null,
      "outputs": []
    },
    {
      "cell_type": "code",
      "metadata": {
        "id": "X5yURAConeZr"
      },
      "source": [
        "print(model.linear_2.bias)\n",
        "print(my_model_loaded.linear_2.bias)"
      ],
      "execution_count": null,
      "outputs": []
    },
    {
      "cell_type": "markdown",
      "metadata": {
        "id": "hitnKDVeneZu"
      },
      "source": [
        "### The recommended way"
      ]
    },
    {
      "cell_type": "code",
      "metadata": {
        "id": "ZQKt4uM3neZu"
      },
      "source": [
        "torch.save(model.state_dict(), \"my_model_state_dict.pt\")"
      ],
      "execution_count": null,
      "outputs": []
    },
    {
      "cell_type": "code",
      "metadata": {
        "id": "LKGUl6XLneZ0"
      },
      "source": [
        "my_model_loaded = MyNeuralNetwork(10, 5, 2)\n",
        "my_model_loaded.load_state_dict(torch.load(\"my_model_state_dict.pt\"))"
      ],
      "execution_count": null,
      "outputs": []
    },
    {
      "cell_type": "code",
      "metadata": {
        "id": "IUCk1VoLneZ8"
      },
      "source": [
        "print(model.linear_2.bias)\n",
        "print(my_model_loaded.linear_2.bias)"
      ],
      "execution_count": null,
      "outputs": []
    },
    {
      "cell_type": "code",
      "metadata": {
        "id": "SuE48wzFneaC"
      },
      "source": [
        ""
      ],
      "execution_count": null,
      "outputs": []
    },
    {
      "cell_type": "markdown",
      "metadata": {
        "id": "ae_khroQneaH"
      },
      "source": [
        "---\n",
        "## Losses"
      ]
    },
    {
      "cell_type": "markdown",
      "metadata": {
        "id": "olVtqDscneaI"
      },
      "source": [
        "PyTorch comes with a lot of predefined loss functions :\n",
        "- `L1Loss`\n",
        "- `MSELoss`\n",
        "- `CrossEntropyLoss`\n",
        "- `NLLLoss`\n",
        "- `PoissonNLLLoss`\n",
        "- `KLDivLoss`\n",
        "- `BCELoss`\n",
        "- `...`"
      ]
    },
    {
      "cell_type": "code",
      "metadata": {
        "id": "otN_K-wYneaJ"
      },
      "source": [
        "loss_function = nn.L1Loss()"
      ],
      "execution_count": null,
      "outputs": []
    },
    {
      "cell_type": "code",
      "metadata": {
        "id": "LfbJKVrsneaQ"
      },
      "source": [
        "x = torch.Tensor([1,1,1])\n",
        "y = torch.Tensor([1,2,3])\n",
        "\n",
        "loss_function(x, y)"
      ],
      "execution_count": null,
      "outputs": []
    },
    {
      "cell_type": "markdown",
      "metadata": {
        "id": "gEbP95F_neaT"
      },
      "source": [
        "---\n",
        "# Building our training loop (3 / 5)"
      ]
    },
    {
      "cell_type": "code",
      "metadata": {
        "id": "NCkTtViQneaU"
      },
      "source": [
        "# INITIALIZATION\n",
        "\n",
        "import torch\n",
        "from torch import nn\n",
        "from torch.utils.data import DataLoader\n",
        "from torchvision.transforms import Compose, ToTensor, RandomCrop\n",
        "from torchvision.datasets import ImageFolder\n",
        "\n",
        "device = torch.device(\"cpu\")\n",
        "\n",
        "transform = Compose((RandomCrop((50, 50)), ToTensor()))\n",
        "dataset = ImageFolder(root=\"../alien-vs-predator/\", transform=transform)\n",
        "loader = DataLoader(dataset, batch_size=5, shuffle=True)\n",
        "\n",
        "model = torch.nn.Sequential(\n",
        "    torch.nn.Flatten(),\n",
        "    torch.nn.Linear(7500, 100),\n",
        "    torch.nn.ReLU(),\n",
        "    torch.nn.Linear(100, 2),\n",
        ")\n",
        "model.to(device)\n",
        "\n",
        "loss_fn = nn.CrossEntropyLoss()"
      ],
      "execution_count": null,
      "outputs": []
    },
    {
      "cell_type": "code",
      "metadata": {
        "id": "puJLnSnXneaV"
      },
      "source": [
        "# TRAINING LOOP\n",
        "\n",
        "for samples, labels in loader:\n",
        "    samples = samples.to(device)\n",
        "    labels = labels.to(device)\n",
        "    predictions = model(samples)\n",
        "    loss = loss_fn(predictions, labels)\n",
        "    # compute gradients\n",
        "    # update model parameters"
      ],
      "execution_count": null,
      "outputs": []
    }
  ]
}