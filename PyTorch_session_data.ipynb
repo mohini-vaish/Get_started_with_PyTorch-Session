{
  "nbformat": 4,
  "nbformat_minor": 0,
  "metadata": {
    "kernelspec": {
      "display_name": "Python 3",
      "language": "python",
      "name": "python3"
    },
    "language_info": {
      "codemirror_mode": {
        "name": "ipython",
        "version": 3
      },
      "file_extension": ".py",
      "mimetype": "text/x-python",
      "name": "python",
      "nbconvert_exporter": "python",
      "pygments_lexer": "ipython3",
      "version": "3.6.9"
    },
    "colab": {
      "name": "PyTorch session-data.ipynb",
      "provenance": [],
      "include_colab_link": true
    }
  },
  "cells": [
    {
      "cell_type": "markdown",
      "metadata": {
        "id": "view-in-github",
        "colab_type": "text"
      },
      "source": [
        "<a href=\"https://colab.research.google.com/github/mohini-vaish/Get_started_with_PyTorch-Session/blob/main/PyTorch_session_data.ipynb\" target=\"_parent\"><img src=\"https://colab.research.google.com/assets/colab-badge.svg\" alt=\"Open In Colab\"/></a>"
      ]
    },
    {
      "cell_type": "markdown",
      "metadata": {
        "id": "Eu2R9IwCnd2o"
      },
      "source": [
        "# 2. Working with data"
      ]
    },
    {
      "cell_type": "code",
      "metadata": {
        "id": "IAy7fbpmnd2p"
      },
      "source": [
        "import torch"
      ],
      "execution_count": null,
      "outputs": []
    },
    {
      "cell_type": "markdown",
      "metadata": {
        "id": "H2tQVJijnd2s"
      },
      "source": [
        "## A simple example"
      ]
    },
    {
      "cell_type": "markdown",
      "metadata": {
        "id": "gvwUms9cnd2t"
      },
      "source": [
        "### Dataset"
      ]
    },
    {
      "cell_type": "code",
      "metadata": {
        "id": "e4IHj_Aynd2t"
      },
      "source": [
        "from torch.utils.data import Dataset"
      ],
      "execution_count": null,
      "outputs": []
    },
    {
      "cell_type": "code",
      "metadata": {
        "id": "y1LQwxATnd2v"
      },
      "source": [
        "class DummyDataset(Dataset):\n",
        "    def __init__(self):\n",
        "        self.data = torch.rand(10)\n",
        "        \n",
        "    def __len__(self):\n",
        "        return len(self.data)\n",
        "    \n",
        "    def __getitem__(self, index):\n",
        "        sample = self.data[index]\n",
        "        label = sample > 0.5\n",
        "        return (sample, label)"
      ],
      "execution_count": null,
      "outputs": []
    },
    {
      "cell_type": "code",
      "metadata": {
        "id": "1JA4PinUnd20"
      },
      "source": [
        "dataset = DummyDataset()"
      ],
      "execution_count": null,
      "outputs": []
    },
    {
      "cell_type": "code",
      "metadata": {
        "id": "H7KMCdZgnd25"
      },
      "source": [
        "dataset.data"
      ],
      "execution_count": null,
      "outputs": []
    },
    {
      "cell_type": "code",
      "metadata": {
        "id": "xv7Gwc5Bnd3C"
      },
      "source": [
        "dataset[0]  # It returns a tuple (data example, class label)"
      ],
      "execution_count": null,
      "outputs": []
    },
    {
      "cell_type": "markdown",
      "metadata": {
        "id": "lnFL212bnd3E"
      },
      "source": [
        "### Dataloader"
      ]
    },
    {
      "cell_type": "code",
      "metadata": {
        "id": "cDIZRiJ7nd3F"
      },
      "source": [
        "from torch.utils.data import DataLoader"
      ],
      "execution_count": null,
      "outputs": []
    },
    {
      "cell_type": "code",
      "metadata": {
        "id": "2LPoXaOknd3H"
      },
      "source": [
        "loader = DataLoader(dataset, batch_size=5, shuffle=True)"
      ],
      "execution_count": null,
      "outputs": []
    },
    {
      "cell_type": "code",
      "metadata": {
        "id": "-hZwa9zznd3L"
      },
      "source": [
        "for sample, label in loader:\n",
        "    print(sample, label)\n",
        "    break"
      ],
      "execution_count": null,
      "outputs": []
    },
    {
      "cell_type": "markdown",
      "metadata": {
        "id": "PBZcNXL6nd3N"
      },
      "source": [
        "## A real example\n",
        "\n",
        "### Alien vs Predator Dataset "
      ]
    },
    {
      "cell_type": "code",
      "metadata": {
        "id": "DtDrCcjdnd3N"
      },
      "source": [
        "!tree -nd ../alien-vs-predator"
      ],
      "execution_count": null,
      "outputs": []
    },
    {
      "cell_type": "markdown",
      "metadata": {
        "id": "y0eHi-_Dnd3Q"
      },
      "source": [
        "![predator](https://github.com/theevann/dl4sci-pytorch-webinar/blob/master/alien-vs-predator/train/predator/10.jpg?raw=1)\n",
        "![alien](https://github.com/theevann/dl4sci-pytorch-webinar/blob/master/alien-vs-predator/train/alien/10.jpg?raw=1)"
      ]
    },
    {
      "cell_type": "code",
      "metadata": {
        "id": "-bkRR31Gnd3R"
      },
      "source": [
        "from pathlib import Path\n",
        "from PIL import Image\n",
        "\n",
        "\n",
        "class AlienPredatorDataset(Dataset):\n",
        "    def __init__(self, root, split):\n",
        "        self.root = root\n",
        "        self.split = split\n",
        "        \n",
        "        # Load and save all image paths\n",
        "        self.img_instances = []\n",
        "        \n",
        "        for img_path in Path(root, split, \"alien\").glob(\"*.jpg\"):\n",
        "            self.img_instances.append((img_path, 0))\n",
        "            \n",
        "        for img_path in Path(root, split, \"predator\").glob(\"*.jpg\"):\n",
        "            self.img_instances.append((img_path, 1))\n",
        "    \n",
        "    \n",
        "    def __len__(self):\n",
        "        return len(self.img_instances)\n",
        "    \n",
        "    \n",
        "    def __getitem__(self, index):\n",
        "        path, target = self.img_instances[index]\n",
        "        \n",
        "        with open(path, 'rb') as f:\n",
        "            img = Image.open(f).convert('RGB')\n",
        "            \n",
        "        return (img, target)"
      ],
      "execution_count": null,
      "outputs": []
    },
    {
      "cell_type": "code",
      "metadata": {
        "id": "s3S_BZYPnd3T"
      },
      "source": [
        "dataset = AlienPredatorDataset(\"../alien-vs-predator/\", \"train\")"
      ],
      "execution_count": null,
      "outputs": []
    },
    {
      "cell_type": "code",
      "metadata": {
        "id": "ClGhinD5nd3W"
      },
      "source": [
        "len(dataset)"
      ],
      "execution_count": null,
      "outputs": []
    },
    {
      "cell_type": "code",
      "metadata": {
        "id": "ovhxStI2nd3a"
      },
      "source": [
        "dataset[0]  # Here again it returns a tuple (image, class label)"
      ],
      "execution_count": null,
      "outputs": []
    },
    {
      "cell_type": "code",
      "metadata": {
        "id": "nQY1zSvLnd3e"
      },
      "source": [
        "dataset[1]"
      ],
      "execution_count": null,
      "outputs": []
    },
    {
      "cell_type": "code",
      "metadata": {
        "id": "69aDlHQ-nd3i"
      },
      "source": [
        "dataset[0][0]"
      ],
      "execution_count": null,
      "outputs": []
    },
    {
      "cell_type": "markdown",
      "metadata": {
        "id": "gVtV2l9snd3l"
      },
      "source": [
        "Use transforms to get tensors of similar size"
      ]
    },
    {
      "cell_type": "markdown",
      "metadata": {
        "id": "V_ajcarLnd3m"
      },
      "source": [
        "### Torchvision's transforms"
      ]
    },
    {
      "cell_type": "markdown",
      "metadata": {
        "id": "oGE1KAD5nd3n"
      },
      "source": [
        "The torchvision package consists of popular datasets, model architectures, and common image transformations for computer vision."
      ]
    },
    {
      "cell_type": "code",
      "metadata": {
        "id": "sF6-dwW2nd3o"
      },
      "source": [
        "from torchvision.transforms import ToTensor, ToPILImage, RandomCrop"
      ],
      "execution_count": null,
      "outputs": []
    },
    {
      "cell_type": "code",
      "metadata": {
        "id": "qcSkBSMond3s"
      },
      "source": [
        "crop_transform = RandomCrop(100)"
      ],
      "execution_count": null,
      "outputs": []
    },
    {
      "cell_type": "code",
      "metadata": {
        "id": "Mj3y28sInd3u"
      },
      "source": [
        "img = dataset[0][0]\n",
        "img"
      ],
      "execution_count": null,
      "outputs": []
    },
    {
      "cell_type": "code",
      "metadata": {
        "id": "zxqrXGLhnd3w"
      },
      "source": [
        "crop_transform(img)"
      ],
      "execution_count": null,
      "outputs": []
    },
    {
      "cell_type": "code",
      "metadata": {
        "id": "8ZxH4lZxnd3y"
      },
      "source": [
        "from torchvision.transforms import Compose"
      ],
      "execution_count": null,
      "outputs": []
    },
    {
      "cell_type": "code",
      "metadata": {
        "id": "rKT3a2Rbnd30"
      },
      "source": [
        "all_transforms = Compose((\n",
        "    RandomCrop(100),\n",
        "    ToTensor(),\n",
        "))"
      ],
      "execution_count": null,
      "outputs": []
    },
    {
      "cell_type": "code",
      "metadata": {
        "id": "mpAs48UNnd33"
      },
      "source": [
        "all_transforms(img)"
      ],
      "execution_count": null,
      "outputs": []
    },
    {
      "cell_type": "code",
      "metadata": {
        "id": "vTknQHyQnd36"
      },
      "source": [
        "all_transforms(img).shape"
      ],
      "execution_count": null,
      "outputs": []
    },
    {
      "cell_type": "markdown",
      "metadata": {
        "id": "oZGxjJwnnd39"
      },
      "source": [
        "Let's apply it to our AlienPredatorDataset !"
      ]
    },
    {
      "cell_type": "markdown",
      "metadata": {
        "id": "C9fNREnCnd39"
      },
      "source": [
        "### Dataloader"
      ]
    },
    {
      "cell_type": "code",
      "metadata": {
        "id": "d0V3yALjnd39"
      },
      "source": [
        "loader = DataLoader(dataset, batch_size=5, shuffle=True) # workers\n",
        "\n",
        "for sample, label in loader:\n",
        "    print(sample.shape, label)\n",
        "    break"
      ],
      "execution_count": null,
      "outputs": []
    },
    {
      "cell_type": "markdown",
      "metadata": {
        "id": "MylntcMJnd3_"
      },
      "source": [
        "## Using torchvision ImageFolder"
      ]
    },
    {
      "cell_type": "code",
      "metadata": {
        "id": "OvHTu2sGnd4A"
      },
      "source": [
        "from torchvision.datasets import ImageFolder"
      ],
      "execution_count": null,
      "outputs": []
    },
    {
      "cell_type": "code",
      "metadata": {
        "id": "tdwZLwIpnd4C"
      },
      "source": [
        "dataset = ImageFolder(root=\"../alien-vs-predator/\", transform=all_transforms)"
      ],
      "execution_count": null,
      "outputs": []
    },
    {
      "cell_type": "code",
      "metadata": {
        "id": "wpoKV-L5nd4G"
      },
      "source": [
        "dataset[0]"
      ],
      "execution_count": null,
      "outputs": []
    },
    {
      "cell_type": "markdown",
      "metadata": {
        "id": "QBhPdxSvnd4K"
      },
      "source": [
        "---\n",
        "# Building our training loop (2 / 5)"
      ]
    },
    {
      "cell_type": "code",
      "metadata": {
        "id": "TR55Rv9Mnd4K"
      },
      "source": [
        "# INITIALIZATION\n",
        "\n",
        "import torch\n",
        "from torch.utils.data import DataLoader\n",
        "from torchvision.transforms import Compose, ToTensor, RandomCrop\n",
        "from torchvision.datasets import ImageFolder\n",
        "\n",
        "device = torch.device(\"cpu\")\n",
        "\n",
        "transform = Compose((RandomCrop((50, 50)), ToTensor()))\n",
        "dataset = ImageFolder(root=\"../alien-vs-predator/\", transform=transform)\n",
        "loader = DataLoader(dataset, batch_size=5, shuffle=True, num_workers=5)"
      ],
      "execution_count": null,
      "outputs": []
    },
    {
      "cell_type": "code",
      "metadata": {
        "id": "GP8v0gK2nd4Q"
      },
      "source": [
        "# TRAINING LOOP\n",
        "\n",
        "for samples, labels in loader:\n",
        "    samples = samples.to(device)\n",
        "    labels = labels.to(device)\n",
        "    # compute predictions with model\n",
        "    # compute the loss\n",
        "    # compute gradients\n",
        "    # update model parameters"
      ],
      "execution_count": null,
      "outputs": []
    }
  ]
}