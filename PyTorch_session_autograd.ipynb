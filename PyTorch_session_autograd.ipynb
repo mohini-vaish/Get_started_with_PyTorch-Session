{
  "nbformat": 4,
  "nbformat_minor": 0,
  "metadata": {
    "kernelspec": {
      "display_name": "Python 3",
      "language": "python",
      "name": "python3"
    },
    "language_info": {
      "codemirror_mode": {
        "name": "ipython",
        "version": 3
      },
      "file_extension": ".py",
      "mimetype": "text/x-python",
      "name": "python",
      "nbconvert_exporter": "python",
      "pygments_lexer": "ipython3",
      "version": "3.6.9"
    },
    "colab": {
      "name": "PyTorch session-autograd.ipynb",
      "provenance": [],
      "include_colab_link": true
    }
  },
  "cells": [
    {
      "cell_type": "markdown",
      "metadata": {
        "id": "view-in-github",
        "colab_type": "text"
      },
      "source": [
        "<a href=\"https://colab.research.google.com/github/mohini-vaish/Get_started_with_PyTorch-Session/blob/main/PyTorch_session_autograd.ipynb\" target=\"_parent\"><img src=\"https://colab.research.google.com/assets/colab-badge.svg\" alt=\"Open In Colab\"/></a>"
      ]
    },
    {
      "cell_type": "markdown",
      "metadata": {
        "id": "u5-vpqEyne-R"
      },
      "source": [
        "# 4. Autograd"
      ]
    },
    {
      "cell_type": "code",
      "metadata": {
        "id": "UUQJmv3Nne-T"
      },
      "source": [
        "import torch"
      ],
      "execution_count": null,
      "outputs": []
    },
    {
      "cell_type": "markdown",
      "metadata": {
        "id": "ac_XB50ane-Y"
      },
      "source": [
        "## Setting `requires_grad`"
      ]
    },
    {
      "cell_type": "code",
      "metadata": {
        "id": "ollc7gSBne-Z"
      },
      "source": [
        "x = torch.ones(2, 2)\n",
        "print(x)"
      ],
      "execution_count": null,
      "outputs": []
    },
    {
      "cell_type": "code",
      "metadata": {
        "id": "XhurOavwne-d"
      },
      "source": [
        "print(x.requires_grad)"
      ],
      "execution_count": null,
      "outputs": []
    },
    {
      "cell_type": "code",
      "metadata": {
        "id": "oCDuw_mNne-g"
      },
      "source": [
        "x.requires_grad_(True)  # note the underscore"
      ],
      "execution_count": null,
      "outputs": []
    },
    {
      "cell_type": "code",
      "metadata": {
        "id": "H2SgROsWne-o"
      },
      "source": [
        "print(x.requires_grad)"
      ],
      "execution_count": null,
      "outputs": []
    },
    {
      "cell_type": "markdown",
      "metadata": {
        "id": "azjUx7VWne-w"
      },
      "source": [
        "### Checking how Autograd tracks operations"
      ]
    },
    {
      "cell_type": "code",
      "metadata": {
        "id": "8QYq-eX1ne-x"
      },
      "source": [
        "y = x + 2\n",
        "print(y)"
      ],
      "execution_count": null,
      "outputs": []
    },
    {
      "cell_type": "code",
      "metadata": {
        "id": "xPwBFSVRne-0"
      },
      "source": [
        "print(y.requires_grad)"
      ],
      "execution_count": null,
      "outputs": []
    },
    {
      "cell_type": "code",
      "metadata": {
        "id": "ajHE_TZxne-5"
      },
      "source": [
        "print(y.grad_fn)"
      ],
      "execution_count": null,
      "outputs": []
    },
    {
      "cell_type": "code",
      "metadata": {
        "id": "NnKm45Elne-8"
      },
      "source": [
        "z = y.mean()\n",
        "print(z)"
      ],
      "execution_count": null,
      "outputs": []
    },
    {
      "cell_type": "code",
      "metadata": {
        "id": "HQEtSm3Gne-_"
      },
      "source": [
        ""
      ],
      "execution_count": null,
      "outputs": []
    },
    {
      "cell_type": "markdown",
      "metadata": {
        "id": "YWbwL_a_ne_D"
      },
      "source": [
        "---\n",
        "## Back to our example :\n",
        "$loss = (x \\cdot W + b - y)^{2}$"
      ]
    },
    {
      "cell_type": "code",
      "metadata": {
        "id": "4eLhaar-ne_E"
      },
      "source": [
        "x = torch.Tensor([1,2,3])\n",
        "y = torch.Tensor([1])\n",
        "\n",
        "W = torch.rand((3,1), requires_grad=True)\n",
        "b = torch.rand(1, requires_grad=True)\n",
        "print(W, \"\\n\\n\", b)"
      ],
      "execution_count": null,
      "outputs": []
    },
    {
      "cell_type": "code",
      "metadata": {
        "id": "xFHHj_Nhne_I"
      },
      "source": [
        "loss = (x @ W + b - y) ** 2\n",
        "print(loss)"
      ],
      "execution_count": null,
      "outputs": []
    },
    {
      "cell_type": "code",
      "metadata": {
        "id": "1cfBbIOMne_K"
      },
      "source": [
        "print(W.grad, b.grad)"
      ],
      "execution_count": null,
      "outputs": []
    },
    {
      "cell_type": "code",
      "metadata": {
        "id": "_TY14EjSne_M"
      },
      "source": [
        "loss.backward()"
      ],
      "execution_count": null,
      "outputs": []
    },
    {
      "cell_type": "code",
      "metadata": {
        "id": "sungVQWfne_P"
      },
      "source": [
        "print(W.grad, \"\\n\\n\", b.grad)"
      ],
      "execution_count": null,
      "outputs": []
    },
    {
      "cell_type": "code",
      "metadata": {
        "id": "hZTK1Hvcne_T"
      },
      "source": [
        "print(x.grad, y.grad)"
      ],
      "execution_count": null,
      "outputs": []
    },
    {
      "cell_type": "markdown",
      "metadata": {
        "id": "KKlWrplHne_V"
      },
      "source": [
        "#### Gradients accumulate !"
      ]
    },
    {
      "cell_type": "code",
      "metadata": {
        "id": "oa0q50dhne_W"
      },
      "source": [
        "loss = (x @ W + b - y) ** 2\n",
        "loss.backward()"
      ],
      "execution_count": null,
      "outputs": []
    },
    {
      "cell_type": "code",
      "metadata": {
        "id": "b00mj3Gkne_Z"
      },
      "source": [
        "print(W.grad, \"\\n\\n\", b.grad)"
      ],
      "execution_count": null,
      "outputs": []
    },
    {
      "cell_type": "code",
      "metadata": {
        "id": "SL4a87C3ne_d"
      },
      "source": [
        ""
      ],
      "execution_count": null,
      "outputs": []
    },
    {
      "cell_type": "markdown",
      "metadata": {
        "id": "Mdk8oAgene_h"
      },
      "source": [
        "---\n",
        "## Gradient for models parameters"
      ]
    },
    {
      "cell_type": "code",
      "metadata": {
        "id": "an1lWICOne_h"
      },
      "source": [
        "neural_net = torch.nn.Sequential(\n",
        "    torch.nn.Linear(5, 10),\n",
        "    torch.nn.ReLU(),\n",
        "    torch.nn.Linear(10, 2),\n",
        ")\n",
        "\n",
        "loss_fn = torch.nn.CrossEntropyLoss()"
      ],
      "execution_count": null,
      "outputs": []
    },
    {
      "cell_type": "code",
      "metadata": {
        "id": "8QcULiy1ne_l"
      },
      "source": [
        "neural_net[0]"
      ],
      "execution_count": null,
      "outputs": []
    },
    {
      "cell_type": "code",
      "metadata": {
        "id": "kAF0XqGIne_o"
      },
      "source": [
        "neural_net[0].weight"
      ],
      "execution_count": null,
      "outputs": []
    },
    {
      "cell_type": "markdown",
      "metadata": {
        "id": "1NohiSuxne_q"
      },
      "source": [
        "A `Parameter` has its `requires_grad` set to `True` by default."
      ]
    },
    {
      "cell_type": "code",
      "metadata": {
        "id": "XpihUlgmne_r"
      },
      "source": [
        "x = torch.rand(15, 5) # batch_size, input_size\n",
        "y = torch.randint(1, (15,)) # batch_size, output_size == num_classes"
      ],
      "execution_count": null,
      "outputs": []
    },
    {
      "cell_type": "code",
      "metadata": {
        "id": "3OT0ooinne_t"
      },
      "source": [
        "predictions = neural_net(x)\n",
        "loss = loss_fn(predictions, y)\n",
        "print(loss)"
      ],
      "execution_count": null,
      "outputs": []
    },
    {
      "cell_type": "code",
      "metadata": {
        "id": "ICLI6WORne_w"
      },
      "source": [
        "print(neural_net[0].weight.grad)"
      ],
      "execution_count": null,
      "outputs": []
    },
    {
      "cell_type": "code",
      "metadata": {
        "id": "Qoyf2eqzne_z"
      },
      "source": [
        "loss.backward()"
      ],
      "execution_count": null,
      "outputs": []
    },
    {
      "cell_type": "code",
      "metadata": {
        "id": "B3xJ_Qnnne_3"
      },
      "source": [
        "print(neural_net[0].weight.grad)"
      ],
      "execution_count": null,
      "outputs": []
    },
    {
      "cell_type": "code",
      "metadata": {
        "id": "NsRIINOHne_6"
      },
      "source": [
        "neural_net.zero_grad()"
      ],
      "execution_count": null,
      "outputs": []
    },
    {
      "cell_type": "code",
      "metadata": {
        "id": "DqJAtfz4ne_9"
      },
      "source": [
        "print(neural_net[0].weight.grad)"
      ],
      "execution_count": null,
      "outputs": []
    },
    {
      "cell_type": "code",
      "metadata": {
        "id": "CAJI87OMne__"
      },
      "source": [
        ""
      ],
      "execution_count": null,
      "outputs": []
    },
    {
      "cell_type": "markdown",
      "metadata": {
        "id": "wMvrwwELnfAD"
      },
      "source": [
        "---\n",
        "## Stop the history tracking"
      ]
    },
    {
      "cell_type": "markdown",
      "metadata": {
        "id": "o5B4bYmAnfAD"
      },
      "source": [
        "Useful during inference"
      ]
    },
    {
      "cell_type": "code",
      "metadata": {
        "id": "_2Kdt570nfAE"
      },
      "source": [
        "x = torch.ones(2, 2, requires_grad=True)"
      ],
      "execution_count": null,
      "outputs": []
    },
    {
      "cell_type": "code",
      "metadata": {
        "id": "iUdvfHCynfAG"
      },
      "source": [
        "y = x ** 2\n",
        "print(y.requires_grad)"
      ],
      "execution_count": null,
      "outputs": []
    },
    {
      "cell_type": "code",
      "metadata": {
        "id": "_cD1iTGEnfAI"
      },
      "source": [
        "with torch.no_grad():\n",
        "    z = x ** 2\n",
        "    print(z.requires_grad)"
      ],
      "execution_count": null,
      "outputs": []
    },
    {
      "cell_type": "code",
      "metadata": {
        "id": "6Lhay5-2nfAK"
      },
      "source": [
        "print(z.grad, z.grad_fn)"
      ],
      "execution_count": null,
      "outputs": []
    },
    {
      "cell_type": "markdown",
      "metadata": {
        "id": "I4AmYDfknfAM"
      },
      "source": [
        "---\n",
        "# Building our training loop (4 / 5)"
      ]
    },
    {
      "cell_type": "code",
      "metadata": {
        "id": "aSCPh45LnfAM"
      },
      "source": [
        "# INITIALIZATION\n",
        "\n",
        "import torch\n",
        "from torch import nn\n",
        "from torch.utils.data import DataLoader\n",
        "from torchvision.transforms import Compose, ToTensor, RandomCrop\n",
        "from torchvision.datasets import ImageFolder\n",
        "\n",
        "device = torch.device(\"cpu\")\n",
        "\n",
        "transform = Compose((RandomCrop((50, 50)), ToTensor()))\n",
        "dataset = ImageFolder(root=\"../alien-vs-predator/\", transform=transform)\n",
        "loader = DataLoader(dataset, batch_size=5, shuffle=True)\n",
        "\n",
        "model = torch.nn.Sequential(\n",
        "    torch.nn.Flatten(),\n",
        "    torch.nn.Linear(7500, 100),\n",
        "    torch.nn.ReLU(),\n",
        "    torch.nn.Linear(100, 2),\n",
        ")\n",
        "model.to(device)\n",
        "\n",
        "loss_fn = nn.CrossEntropyLoss()"
      ],
      "execution_count": null,
      "outputs": []
    },
    {
      "cell_type": "code",
      "metadata": {
        "id": "VC0drRBanfAQ"
      },
      "source": [
        "# TRAINING LOOP\n",
        "\n",
        "for samples, labels in loader:\n",
        "    samples = samples.to(device)\n",
        "    labels = labels.to(device)\n",
        "    predictions = model(samples)\n",
        "    loss = loss_fn(predictions, labels)\n",
        "    loss.backward()\n",
        "    # update model parameters\n",
        "    model.zero_grad() #"
      ],
      "execution_count": null,
      "outputs": []
    }
  ]
}