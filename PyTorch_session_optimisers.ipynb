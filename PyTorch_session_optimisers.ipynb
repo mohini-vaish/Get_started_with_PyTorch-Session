{
  "nbformat": 4,
  "nbformat_minor": 0,
  "metadata": {
    "kernelspec": {
      "display_name": "Python 3",
      "language": "python",
      "name": "python3"
    },
    "language_info": {
      "codemirror_mode": {
        "name": "ipython",
        "version": 3
      },
      "file_extension": ".py",
      "mimetype": "text/x-python",
      "name": "python",
      "nbconvert_exporter": "python",
      "pygments_lexer": "ipython3",
      "version": "3.6.9"
    },
    "colab": {
      "name": "PyTorch session-optimisers.ipynb",
      "provenance": [],
      "include_colab_link": true
    }
  },
  "cells": [
    {
      "cell_type": "markdown",
      "metadata": {
        "id": "view-in-github",
        "colab_type": "text"
      },
      "source": [
        "<a href=\"https://colab.research.google.com/github/mohini-vaish/Get_started_with_PyTorch-Session/blob/main/PyTorch_session_optimisers.ipynb\" target=\"_parent\"><img src=\"https://colab.research.google.com/assets/colab-badge.svg\" alt=\"Open In Colab\"/></a>"
      ]
    },
    {
      "cell_type": "markdown",
      "metadata": {
        "id": "Bfq1verLnfcR"
      },
      "source": [
        "# 5. Optimizers"
      ]
    },
    {
      "cell_type": "code",
      "metadata": {
        "id": "6WTnEnXmnfcT"
      },
      "source": [
        "import torch\n",
        "from torch import optim"
      ],
      "execution_count": null,
      "outputs": []
    },
    {
      "cell_type": "markdown",
      "metadata": {
        "id": "iJ1cZWienfcX"
      },
      "source": [
        "### Instantiating"
      ]
    },
    {
      "cell_type": "code",
      "metadata": {
        "id": "77KHM3sznfcX"
      },
      "source": [
        "dir(optim)[:12]"
      ],
      "execution_count": null,
      "outputs": []
    },
    {
      "cell_type": "code",
      "metadata": {
        "id": "X30Jyo0-nfca"
      },
      "source": [
        "neural_net = torch.nn.Sequential(\n",
        "    torch.nn.Linear(10, 5),\n",
        "    torch.nn.ReLU(),\n",
        "    torch.nn.Linear(5, 2),\n",
        ")"
      ],
      "execution_count": null,
      "outputs": []
    },
    {
      "cell_type": "code",
      "metadata": {
        "id": "jULsNNpmnfch"
      },
      "source": [
        "optimizer = optim.SGD(neural_net.parameters(), lr=0.1)"
      ],
      "execution_count": null,
      "outputs": []
    },
    {
      "cell_type": "markdown",
      "metadata": {
        "id": "SvSwwB7Bnfco"
      },
      "source": [
        "### Optimizing"
      ]
    },
    {
      "cell_type": "code",
      "metadata": {
        "id": "fhZQhZ-lnfcp"
      },
      "source": [
        "loss_fn = torch.nn.CrossEntropyLoss()\n",
        "\n",
        "x = torch.rand(15, 10)  # batch_size, input_size\n",
        "y = torch.randint(1, (15,))  # batch_size, output_size == num_classes\n",
        "\n",
        "predictions = neural_net(x)  # make predictions\n",
        "loss = loss_fn(predictions, y)  # compute loss\n",
        "loss.backward()  # compute gradients"
      ],
      "execution_count": null,
      "outputs": []
    },
    {
      "cell_type": "code",
      "metadata": {
        "id": "L6sqjb7Infcy"
      },
      "source": [
        "print(neural_net[0].bias)"
      ],
      "execution_count": null,
      "outputs": []
    },
    {
      "cell_type": "code",
      "metadata": {
        "id": "o5yLqYJAnfc0"
      },
      "source": [
        "optimizer.step()"
      ],
      "execution_count": null,
      "outputs": []
    },
    {
      "cell_type": "code",
      "metadata": {
        "id": "rPF1pm-vnfc4"
      },
      "source": [
        "print(neural_net[0].bias)"
      ],
      "execution_count": null,
      "outputs": []
    },
    {
      "cell_type": "markdown",
      "metadata": {
        "id": "ATPVIeL4nfc7"
      },
      "source": [
        "### Schedulers"
      ]
    },
    {
      "cell_type": "code",
      "metadata": {
        "id": "Vmc0EiLrnfc8"
      },
      "source": [
        "optim.lr_scheduler.LambdaLR\n",
        "optim.lr_scheduler.ExponentialLR\n",
        "optim.lr_scheduler.MultiStepLR\n",
        "optim.lr_scheduler.StepLR\n",
        "# etc"
      ],
      "execution_count": null,
      "outputs": []
    },
    {
      "cell_type": "code",
      "metadata": {
        "id": "M3ErKSxnnfc_"
      },
      "source": [
        "scheduler = optim.lr_scheduler.ExponentialLR(optimizer, gamma=0.8)  # Decays the learning rate by gamma every epoch"
      ],
      "execution_count": null,
      "outputs": []
    },
    {
      "cell_type": "code",
      "metadata": {
        "id": "sMdxaxBinfdD"
      },
      "source": [
        "print(optimizer.param_groups[0][\"lr\"])\n",
        "\n",
        "scheduler.step()\n",
        "\n",
        "print(optimizer.param_groups[0][\"lr\"])"
      ],
      "execution_count": null,
      "outputs": []
    },
    {
      "cell_type": "code",
      "metadata": {
        "id": "ujdZyq4-nfdG"
      },
      "source": [
        ""
      ],
      "execution_count": null,
      "outputs": []
    },
    {
      "cell_type": "markdown",
      "metadata": {
        "id": "HZ67qAOqnfdR"
      },
      "source": [
        "---\n",
        "# Building our training loop (5 / 5)"
      ]
    },
    {
      "cell_type": "code",
      "metadata": {
        "id": "lh4QVJ2PnfdR"
      },
      "source": [
        "# INITIALIZATION\n",
        "\n",
        "import torch\n",
        "from torch import nn, optim\n",
        "from torch.utils.data import DataLoader\n",
        "from torchvision.transforms import Compose, ToTensor, RandomCrop\n",
        "from torchvision.datasets import ImageFolder\n",
        "\n",
        "device = torch.device(\"cpu\")\n",
        "\n",
        "transform = Compose((RandomCrop((50, 50)), ToTensor()))\n",
        "dataset = ImageFolder(root=\"../alien-vs-predator/\", transform=transform)\n",
        "loader = DataLoader(dataset, batch_size=5, shuffle=True)\n",
        "\n",
        "model = torch.nn.Sequential(\n",
        "    torch.nn.Flatten(),\n",
        "    torch.nn.Linear(7500, 100),\n",
        "    torch.nn.ReLU(),\n",
        "    torch.nn.Linear(100, 2),\n",
        ")\n",
        "model.to(device)\n",
        "\n",
        "loss_fn = nn.CrossEntropyLoss()\n",
        "\n",
        "optimizer = optim.SGD(model.parameters(), lr=0.1)"
      ],
      "execution_count": null,
      "outputs": []
    },
    {
      "cell_type": "code",
      "metadata": {
        "id": "3Zc75JQ-nfdU"
      },
      "source": [
        "# TRAINING LOOP\n",
        "\n",
        "for samples, labels in loader:\n",
        "    samples = samples.to(device)\n",
        "    labels = labels.to(device)\n",
        "    predictions = model(samples)\n",
        "    loss = loss_fn(predictions, labels)\n",
        "    loss.backward()\n",
        "    optimizer.step()\n",
        "    model.zero_grad() #"
      ],
      "execution_count": null,
      "outputs": []
    }
  ]
}