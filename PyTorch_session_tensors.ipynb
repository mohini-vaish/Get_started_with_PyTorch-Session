{
  "nbformat": 4,
  "nbformat_minor": 0,
  "metadata": {
    "kernelspec": {
      "display_name": "Python 3",
      "language": "python",
      "name": "python3"
    },
    "language_info": {
      "codemirror_mode": {
        "name": "ipython",
        "version": 3
      },
      "file_extension": ".py",
      "mimetype": "text/x-python",
      "name": "python",
      "nbconvert_exporter": "python",
      "pygments_lexer": "ipython3",
      "version": "3.6.9"
    },
    "colab": {
      "name": "PyTorch session-tensors.ipynb",
      "provenance": [],
      "collapsed_sections": [
        "S35JHmMFmaas",
        "0UIoYW5Wmaaw"
      ],
      "include_colab_link": true
    }
  },
  "cells": [
    {
      "cell_type": "markdown",
      "metadata": {
        "id": "view-in-github",
        "colab_type": "text"
      },
      "source": [
        "<a href=\"https://colab.research.google.com/github/mohini-vaish/Get_started_with_PyTorch-Session/blob/main/PyTorch_session_tensors.ipynb\" target=\"_parent\"><img src=\"https://colab.research.google.com/assets/colab-badge.svg\" alt=\"Open In Colab\"/></a>"
      ]
    },
    {
      "cell_type": "markdown",
      "metadata": {
        "id": "UdNDpycNmaZh"
      },
      "source": [
        "# 1. Tensors"
      ]
    },
    {
      "cell_type": "code",
      "metadata": {
        "id": "f9JHkJaXmaZi"
      },
      "source": [
        "import torch"
      ],
      "execution_count": null,
      "outputs": []
    },
    {
      "cell_type": "code",
      "metadata": {
        "id": "7gA6ikGRmaZo"
      },
      "source": [
        "x = torch.tensor([[1., 2., 3.], [4., 5., 6.]])\n",
        "print(x)"
      ],
      "execution_count": null,
      "outputs": []
    },
    {
      "cell_type": "markdown",
      "metadata": {
        "id": "Cq6DyIAJmaZr"
      },
      "source": [
        "### Checking properties"
      ]
    },
    {
      "cell_type": "code",
      "metadata": {
        "id": "YdVwWXfUmaZs"
      },
      "source": [
        "x.dim()"
      ],
      "execution_count": null,
      "outputs": []
    },
    {
      "cell_type": "code",
      "metadata": {
        "id": "YFjt-y1nmaZu"
      },
      "source": [
        "x.shape"
      ],
      "execution_count": null,
      "outputs": []
    },
    {
      "cell_type": "code",
      "metadata": {
        "id": "W0453ZOfmaZw"
      },
      "source": [
        "x.size(0)"
      ],
      "execution_count": null,
      "outputs": []
    },
    {
      "cell_type": "markdown",
      "metadata": {
        "id": "zxssa3z4maZz"
      },
      "source": [
        "### Operations"
      ]
    },
    {
      "cell_type": "code",
      "metadata": {
        "id": "N1EigeIbmaZz"
      },
      "source": [
        "torch.sum(x, dim=1)"
      ],
      "execution_count": null,
      "outputs": []
    },
    {
      "cell_type": "code",
      "metadata": {
        "id": "n3eRpAeEmaZ2"
      },
      "source": [
        "x.sum(dim=1)"
      ],
      "execution_count": null,
      "outputs": []
    },
    {
      "cell_type": "markdown",
      "metadata": {
        "id": "h5f-GaizmaZ7"
      },
      "source": [
        "Example - Computing the norm: $$\\sqrt{x_1^2 + x_2^2 + \\dots + x_n^2}$$"
      ]
    },
    {
      "cell_type": "code",
      "metadata": {
        "id": "5sdzeKfamaZ8"
      },
      "source": [
        "(x**2).sum().sqrt()"
      ],
      "execution_count": null,
      "outputs": []
    },
    {
      "cell_type": "code",
      "metadata": {
        "id": "CxzVos2DmaZ-"
      },
      "source": [
        "x.norm(p=2)"
      ],
      "execution_count": null,
      "outputs": []
    },
    {
      "cell_type": "markdown",
      "metadata": {
        "id": "MRGCrlj1maaA"
      },
      "source": [
        "### In-Place Operators"
      ]
    },
    {
      "cell_type": "markdown",
      "metadata": {
        "id": "lX8ASEccmaaA"
      },
      "source": [
        "All element-wise functions have an inplace version"
      ]
    },
    {
      "cell_type": "code",
      "metadata": {
        "id": "EcmT3qFomaaB"
      },
      "source": [
        "A = torch.eye(3)\n",
        "A"
      ],
      "execution_count": null,
      "outputs": []
    },
    {
      "cell_type": "code",
      "metadata": {
        "id": "Q_dfHfqhmaaD"
      },
      "source": [
        "A.add(5)"
      ],
      "execution_count": null,
      "outputs": []
    },
    {
      "cell_type": "code",
      "metadata": {
        "id": "Yi5nELAgmaaF"
      },
      "source": [
        "A"
      ],
      "execution_count": null,
      "outputs": []
    },
    {
      "cell_type": "code",
      "metadata": {
        "id": "KSQhNKIGmaaI"
      },
      "source": [
        "A.add_(5)"
      ],
      "execution_count": null,
      "outputs": []
    },
    {
      "cell_type": "code",
      "metadata": {
        "id": "WiSMI2W0maaL"
      },
      "source": [
        "A"
      ],
      "execution_count": null,
      "outputs": []
    },
    {
      "cell_type": "markdown",
      "metadata": {
        "id": "hIAWG_FymaaN"
      },
      "source": [
        "__Note:__"
      ]
    },
    {
      "cell_type": "code",
      "metadata": {
        "id": "SuR5F3QnmaaN"
      },
      "source": [
        "A = torch.ones(1)\n",
        "\n",
        "A_before = A\n",
        "A = A + 1\n",
        "\n",
        "print(A, A_before)"
      ],
      "execution_count": null,
      "outputs": []
    },
    {
      "cell_type": "code",
      "metadata": {
        "id": "12diQBDPmaaP"
      },
      "source": [
        "A = torch.ones(1)\n",
        "\n",
        "A_before = A\n",
        "A += 1\n",
        "\n",
        "print(A, A_before)"
      ],
      "execution_count": null,
      "outputs": []
    },
    {
      "cell_type": "markdown",
      "metadata": {
        "id": "27utSpjpmaaS"
      },
      "source": [
        "### Reshaping"
      ]
    },
    {
      "cell_type": "markdown",
      "metadata": {
        "id": "5V6Yk6iOmaaS"
      },
      "source": [
        "In Pytorch, we use the `view` function to reshape a tensor.  "
      ]
    },
    {
      "cell_type": "code",
      "metadata": {
        "id": "biCbUWUymaaS"
      },
      "source": [
        "X = torch.tensor([1, 2, 3, 4, 5, 6])\n",
        "print(X)"
      ],
      "execution_count": null,
      "outputs": []
    },
    {
      "cell_type": "code",
      "metadata": {
        "id": "X_53p7AMmaaV"
      },
      "source": [
        "X.view(2, 3)"
      ],
      "execution_count": null,
      "outputs": []
    },
    {
      "cell_type": "code",
      "metadata": {
        "id": "wezwNUIbmaaZ"
      },
      "source": [
        "X.view(-1, 2)"
      ],
      "execution_count": null,
      "outputs": []
    },
    {
      "cell_type": "markdown",
      "metadata": {
        "id": "hMqzQ9Nwmaab"
      },
      "source": [
        "It does not create a copy: different views _share the same data._  \n",
        "A function `reshape` exists but it performs a copy of the Tensor."
      ]
    },
    {
      "cell_type": "markdown",
      "metadata": {
        "id": "UOze8Qalmaad"
      },
      "source": [
        "### Type Conversion"
      ]
    },
    {
      "cell_type": "code",
      "metadata": {
        "id": "U4NrNDMLmaad"
      },
      "source": [
        "Y = 4 * torch.rand((2,4))"
      ],
      "execution_count": null,
      "outputs": []
    },
    {
      "cell_type": "code",
      "metadata": {
        "id": "Rericm_xmaaf"
      },
      "source": [
        "Y.dtype"
      ],
      "execution_count": null,
      "outputs": []
    },
    {
      "cell_type": "code",
      "metadata": {
        "id": "w3qgC1namaah"
      },
      "source": [
        "Y.to(torch.float16)"
      ],
      "execution_count": null,
      "outputs": []
    },
    {
      "cell_type": "code",
      "metadata": {
        "id": "6lrhYPWKmaal"
      },
      "source": [
        "Y.to(torch.int64)"
      ],
      "execution_count": null,
      "outputs": []
    },
    {
      "cell_type": "markdown",
      "metadata": {
        "id": "RojA9Ph4maam"
      },
      "source": [
        "### Using a GPU"
      ]
    },
    {
      "cell_type": "code",
      "metadata": {
        "id": "yt_UTJrUmaao"
      },
      "source": [
        "torch.cuda.is_available()  # Check if we can use GPUs"
      ],
      "execution_count": null,
      "outputs": []
    },
    {
      "cell_type": "code",
      "metadata": {
        "id": "6zGhTSucmaaq"
      },
      "source": [
        "x = torch.Tensor([[1,2,3], [4,5,6]])"
      ],
      "execution_count": null,
      "outputs": []
    },
    {
      "cell_type": "markdown",
      "metadata": {
        "id": "S35JHmMFmaas"
      },
      "source": [
        "#### The **old** way"
      ]
    },
    {
      "cell_type": "code",
      "metadata": {
        "id": "0FVrP2Gnmaat"
      },
      "source": [
        "y = x.cuda()\n",
        "print(y)"
      ],
      "execution_count": null,
      "outputs": []
    },
    {
      "cell_type": "code",
      "metadata": {
        "id": "OZhsvrDrmaau"
      },
      "source": [
        "y = x.cpu()\n",
        "print(y)"
      ],
      "execution_count": null,
      "outputs": []
    },
    {
      "cell_type": "markdown",
      "metadata": {
        "id": "0UIoYW5Wmaaw"
      },
      "source": [
        "#### The **new** way"
      ]
    },
    {
      "cell_type": "code",
      "metadata": {
        "id": "a-vLshM-maaw"
      },
      "source": [
        "# Define the device\n",
        "dev_cpu = torch.device(\"cpu\")\n",
        "dev_gpu = torch.device(\"cuda:0\")"
      ],
      "execution_count": null,
      "outputs": []
    },
    {
      "cell_type": "code",
      "metadata": {
        "id": "Q7r9szvomaay"
      },
      "source": [
        "x.to(dev_cpu)"
      ],
      "execution_count": null,
      "outputs": []
    },
    {
      "cell_type": "code",
      "metadata": {
        "id": "2KGVANIfmaa1"
      },
      "source": [
        "# At the beginning of your code\n",
        "device = torch.device(\"cpu\" if not torch.cuda.is_available() else \"cuda\")\n",
        "\n",
        "# Later in the code\n",
        "x.to(device)"
      ],
      "execution_count": null,
      "outputs": []
    },
    {
      "cell_type": "markdown",
      "metadata": {
        "id": "3gfldHBHmaa2"
      },
      "source": [
        "### PyTorch <--> Numpy"
      ]
    },
    {
      "cell_type": "code",
      "metadata": {
        "id": "IakESoHXmaa2"
      },
      "source": [
        "import numpy as np\n",
        "\n",
        "X = np.random.random((2,3))\n",
        "print(X)"
      ],
      "execution_count": null,
      "outputs": []
    },
    {
      "cell_type": "code",
      "metadata": {
        "id": "2EQlgx14maa4"
      },
      "source": [
        "# numpy ---> torch\n",
        "Y = torch.from_numpy(X)\n",
        "print(Y)"
      ],
      "execution_count": null,
      "outputs": []
    },
    {
      "cell_type": "code",
      "metadata": {
        "id": "yaVtVUHomaa7"
      },
      "source": [
        "# torch ---> numpy\n",
        "X = Y.numpy()\n",
        "print(X)"
      ],
      "execution_count": null,
      "outputs": []
    },
    {
      "cell_type": "markdown",
      "metadata": {
        "id": "0Zhq8wKjmaa8"
      },
      "source": [
        "---\n",
        "# Building our training loop (1 / 5)"
      ]
    },
    {
      "cell_type": "code",
      "metadata": {
        "id": "67tsemQ1maa8"
      },
      "source": [
        "# INITIALIZATION\n",
        "\n",
        "import torch\n",
        "\n",
        "device = torch.device(\"cpu\")"
      ],
      "execution_count": null,
      "outputs": []
    },
    {
      "cell_type": "code",
      "metadata": {
        "id": "j7Ie2WAamaa-"
      },
      "source": [
        "# TRAINING LOOP\n",
        "\n",
        "# Loop through dataset to get batches of samples and labels\n",
        "    samples = samples.to(device)\n",
        "    labels = labels.to(device)\n",
        "    # compute predictions with model\n",
        "    # compute the loss\n",
        "    # compute gradients\n",
        "    # update model parameters"
      ],
      "execution_count": null,
      "outputs": []
    }
  ]
}